{
 "cells": [
  {
   "cell_type": "markdown",
   "id": "e2af1631",
   "metadata": {},
   "source": [
    "# Programming Assignment 1 - OpenCV Exercises Image Enhancement\n",
    "\n",
    "by Mark Jeremy G. Narag\n",
    "\n",
    "This Programming Assignment has seven (7) parts which tackles 7 different tasks. This is PART 2.\n",
    "\n",
    "\n",
    "All codes were executed using Jupyter Notebook in Macbook Air M1 MacOS Ventura 13.4.1\n",
    "\n",
    "## PART 2: Reads and displays a video and is controlled by a slider and button. The slider controls the position within the video from start to end in 10 increments and the button controls pause/unpause. Label them both. The program will prompt the user to type in the filename of the video.\n",
    "\n",
    "Here, I will use `Tkinter`. It is a python library for creating graphical user interfaces (GUIs) which we will need for the controls"
   ]
  },
  {
   "cell_type": "code",
   "execution_count": null,
   "id": "7d9a7c9e",
   "metadata": {},
   "outputs": [
    {
     "name": "stdout",
     "output_type": "stream",
     "text": [
      "Enter video filename: test.mov\n"
     ]
    }
   ],
   "source": [
    "import cv2\n",
    "import numpy as np\n",
    "import tkinter as tk\n",
    "from tkinter import filedialog\n",
    "from tkinter import simpledialog\n",
    "\n",
    "#  let us create a function to update the video frame based on the slider position\n",
    "def update_frame(val):\n",
    "    global paused\n",
    "    current_position = int(val)\n",
    "    cap.set(cv2.CAP_PROP_POS_FRAMES, current_position)#seting current frame position when reading a video file\n",
    "    ret, frame = cap.read() #ret indicates whether the function call was successful or not.\n",
    "    if ret:\n",
    "        cv2.imshow('Video Player', frame)\n",
    "        if not paused:\n",
    "            slider_position = int(cap.get(cv2.CAP_PROP_POS_FRAMES))\n",
    "            slider.set(slider_position)\n",
    "            #we schedule a function call to be executed after the specified time delay \n",
    "            #I will assume that the problem asks for 10 milliseconds delay\n",
    "            root.after(10, update_frame, slider_position)\n",
    "\n",
    "# then we create a function to toggle between pause/unpause\n",
    "def toggle_pause():\n",
    "    global paused\n",
    "    paused = not paused\n",
    "    if not paused:\n",
    "        update_frame(slider.get())\n",
    "\n",
    "# then we create a GUI window\n",
    "root = tk.Tk()\n",
    "root.title(\"Video Player\")\n",
    "\n",
    "# since we need to ask the user to enter the video file name\"\n",
    "video_file = input(\"Enter video filename: \")\n",
    "cap = cv2.VideoCapture(video_file) # to create a VideoCapture object\n",
    "total_frames = int(cap.get(cv2.CAP_PROP_FRAME_COUNT)) # just getting the total number of frames\n",
    "\n",
    "slider = tk.Scale(root, from_=0, to=total_frames, orient=\"horizontal\", label=\"Position\")#creating a slider for the video control:\n",
    "slider.pack(pady=20)# paddy adds 20 pixels of space below the widget\n",
    "slider.set(0)\n",
    "\n",
    "pause_button = tk.Button(root, text=\"Pause/Unpause\", command=toggle_pause) #creating a button to pause/unpause the video\n",
    "pause_button.pack(pady=20) # paddy adds 20 pixels of space below the widget\n",
    "paused = False # initializing pause state\n",
    "\n",
    "ret, frame = cap.read() #creating the initial video window\n",
    "if ret:\n",
    "    cv2.imshow('Video Player', frame)\n",
    "    update_frame(0)\n",
    "\n",
    "# closing the opencv window and releasing the video capture when the GUI window is closed:\n",
    "root.protocol(\"WM_DELETE_WINDOW\", lambda: cap.release() or cv2.destroyAllWindows() or root.destroy())\n",
    "\n",
    "root.mainloop() # starting the GUI main loop\n",
    "\n",
    "cv2.waitKey(0)\n",
    "cv2.destroyAllWindows()#closing all windows\n",
    "cv2.waitKey(1) #for some reason, macbook jupyter does not close the windows and I saw a discussion online \n",
    "cv2.waitKey(1) #regarding adding these extra lines\n",
    "cv2.waitKey(1)\n",
    "cv2.waitKey(1)\n"
   ]
  },
  {
   "cell_type": "code",
   "execution_count": null,
   "id": "a943c911",
   "metadata": {},
   "outputs": [],
   "source": []
  }
 ],
 "metadata": {
  "kernelspec": {
   "display_name": "Python 3 (ipykernel)",
   "language": "python",
   "name": "python3"
  },
  "language_info": {
   "codemirror_mode": {
    "name": "ipython",
    "version": 3
   },
   "file_extension": ".py",
   "mimetype": "text/x-python",
   "name": "python",
   "nbconvert_exporter": "python",
   "pygments_lexer": "ipython3",
   "version": "3.11.5"
  }
 },
 "nbformat": 4,
 "nbformat_minor": 5
}
