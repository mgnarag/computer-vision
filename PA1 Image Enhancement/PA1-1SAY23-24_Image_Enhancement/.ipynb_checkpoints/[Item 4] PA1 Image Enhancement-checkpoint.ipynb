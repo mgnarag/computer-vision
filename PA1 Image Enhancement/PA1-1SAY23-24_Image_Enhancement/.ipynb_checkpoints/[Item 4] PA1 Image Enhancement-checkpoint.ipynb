{
 "cells": [
  {
   "cell_type": "markdown",
   "id": "08c1ecb7",
   "metadata": {},
   "source": [
    "# Programming Assignment 1 - OpenCV Exercises Image Enhancement\n",
    "\n",
    "by Mark Jeremy G. Narag\n",
    "\n",
    "This Programming Assignment has seven (7) parts which tackles 7 different tasks. This is PART 4.\n",
    "\n",
    "\n",
    "All codes were executed using Jupyter Notebook in Macbook Air M1 MacOS Ventura 13.4.1\n",
    "\n",
    "## PART 4: Write code that continuously reads frames from your webcam, turns the result to grayscale, and performs Canny edge detection on the image. Display all three stages of processing as three different images in one window.\n",
    "(Hint: create another image of the same height but three times the width as the video frame. Copy the images into this by creating three new image headers that point to the beginning of and to one-third and two-thirds of the way into the image data.)"
   ]
  },
  {
   "cell_type": "code",
   "execution_count": 2,
   "id": "812ad226",
   "metadata": {},
   "outputs": [
    {
     "data": {
      "text/plain": [
       "-1"
      ]
     },
     "execution_count": 2,
     "metadata": {},
     "output_type": "execute_result"
    }
   ],
   "source": [
    "import cv2\n",
    "import numpy as np\n",
    "\n",
    "cap = cv2.VideoCapture(0) #accessing the camera\n",
    "\n",
    "\n",
    "if not cap.isOpened(): # let's check if the camera can be accessed first\n",
    "    print(\"Camera is not found. Try again. \")\n",
    "    exit()\n",
    "\n",
    "while True:\n",
    "    ret, frame = cap.read() #ret indicates whether the function call was successful or not.\n",
    "    \n",
    "    if not ret:\n",
    "        print(\"ERROR: Unable to read the frame\")\n",
    "        break\n",
    "   \n",
    "    grayscaled = cv2.cvtColor(frame, cv2.COLOR_BGR2GRAY) #since our webcam is colored, we need to grayscale it\n",
    "    canny_edge = cv2.Canny(grayscaled, 50, 125) #we then apply Canny to the grayscaled.\n",
    "    #the 50 and 125 value  here are the low and high threshold values. We can change this if we want.\n",
    "\n",
    "    width, height = frame.shape[1], frame.shape[0] #let's get the width and height of the frame\n",
    "    final_frame = np.zeros((height, width * 3, 3), dtype=np.uint8) #then we create a new frame thrice the width\n",
    "    \n",
    "    final_frame[:, 0:width] = frame #we copy the original frame on the first width\n",
    "    #note that the original frame has 3 channels so we need to convert 2nd and 3rd frame into 3 channels too!\n",
    "    final_frame[:, width:width*2] = cv2.cvtColor(grayscaled, cv2.COLOR_GRAY2BGR) #grayscaled on the second frame\n",
    "    final_frame[:, width*2:width*3] = cv2.cvtColor(canny_edge, cv2.COLOR_GRAY2BGR) #canny on the third frame\n",
    "\n",
    "    cv2.imshow(\"(left) original, (middle) grayscaled, (right) canny edge detection\", final_frame) #display result\n",
    "\n",
    "    if cv2.waitKey(1) & 0xFF == ord('q'): #to exit, we break the loop when key 'q' is pressed\n",
    "        break\n",
    "\n",
    "\n",
    "cap.release() #releasing the webcam\n",
    "cv2.destroyAllWindows() #closing all windows\n",
    "cv2.waitKey(1) #for some reason, macbook jupyter does not close the windows and I saw a discussion online \n",
    "cv2.waitKey(1) #regarding adding these extra lines\n",
    "cv2.waitKey(1)\n",
    "cv2.waitKey(1)\n"
   ]
  }
 ],
 "metadata": {
  "kernelspec": {
   "display_name": "Python 3 (ipykernel)",
   "language": "python",
   "name": "python3"
  },
  "language_info": {
   "codemirror_mode": {
    "name": "ipython",
    "version": 3
   },
   "file_extension": ".py",
   "mimetype": "text/x-python",
   "name": "python",
   "nbconvert_exporter": "python",
   "pygments_lexer": "ipython3",
   "version": "3.11.5"
  }
 },
 "nbformat": 4,
 "nbformat_minor": 5
}
