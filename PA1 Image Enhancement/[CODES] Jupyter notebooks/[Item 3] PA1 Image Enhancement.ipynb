{
 "cells": [
  {
   "cell_type": "markdown",
   "id": "8aa30b15",
   "metadata": {},
   "source": [
    "# Programming Assignment 1 - OpenCV Exercises Image Enhancement\n",
    "\n",
    "by Mark Jeremy G. Narag\n",
    "\n",
    "This Programming Assignment has seven (7) parts which tackles 7 different tasks. This is PART 3.\n",
    "\n",
    "\n",
    "All codes were executed using Jupyter Notebook in Macbook Air M1 MacOS Ventura 13.4.1\n",
    "\n",
    "## PART 3: Write code that reads in and displays an image. When the user clicks on the image, display the mouse pointer coordinates and the corresponding pixel (blue, green, red) values and write those values as text to the screen at the mouse location."
   ]
  },
  {
   "cell_type": "markdown",
   "id": "e67700e8",
   "metadata": {},
   "source": [
    "Before we begin, I will introduce the `cv2.setMouseCallback` function of OpenCV. `cv2.setMouseCallback` allows us to set up a callback function to handle clicks on mouse on an OpenCV window. Basicallu, it enables the image or window to respond to user interactions via mouse. \n",
    "\n",
    "It works as follows:\n",
    "\n",
    "`cv2.setMouseCallback('WindowName', callback_function)`\n",
    "\n",
    "where we need to specify the window name where we will interact, and a callback function which we will define. The callback function contains what we want to do on the user interaction."
   ]
  },
  {
   "cell_type": "code",
   "execution_count": 32,
   "id": "5424fd45",
   "metadata": {},
   "outputs": [
    {
     "data": {
      "text/plain": [
       "-1"
      ]
     },
     "execution_count": 32,
     "metadata": {},
     "output_type": "execute_result"
    }
   ],
   "source": [
    "import cv2\n",
    "import numpy as np\n",
    "\n",
    "#so the first thing to do is to create the callback function which will get the pixel coordinate and the BGR value.\n",
    "#\"flags\" represent additional info about the event such as the specific key to press\n",
    "#\"param\" is just to allow additional parameters to the function\n",
    "def display_pix_values(event, x, y,  flags, param): \n",
    "    if event == cv2.EVENT_LBUTTONDOWN: #if there is a LEFT mouse click, then:\n",
    "        \n",
    "        BGR_values = img[y, x] #we get the pixel values at a specific location [y,x]\n",
    "        \n",
    "        #Remember that by default, openCV reads colored images in BGR channel order, instead of usual RGB\n",
    "        text = f\"coor: ({x}, {y}) , BGR: {BGR_values}\" #we create the string text\n",
    "        \n",
    "        #now we display the text at that specific location where we clicked it\n",
    "        cv2.putText(img, text, (x, y), cv2.FONT_HERSHEY_SIMPLEX, 1.5, (255, 255, 255), 2)\n",
    "        #basically the parameters are: image, text, position, font, font scale, color, font thickness\n",
    "\n",
    "        cv2.imshow(\"BRG window\", img) #showing the the image with the desired interaction\n",
    "\n",
    "        \n",
    "img = cv2.imread(\"macbeth.jpg\")  #i will use my macbeth chart image\n",
    "cv2.namedWindow(\"BRG window\") #creating a window with window name \"BRG window\"\n",
    "cv2.setMouseCallback(\"BRG window\", display_pix_values)\n",
    "cv2.imshow(\"BRG window\", img) #displaying the image\n",
    "cv2.waitKey(0) #waiting for the user to click on the image\n",
    "\n",
    "cv2.destroyAllWindows()#closing all windows\n",
    "cv2.waitKey(1) #for some reason, macbook jupyter does not close the windows and I saw a discussion online \n",
    "cv2.waitKey(1) #regarding adding these extra lines\n",
    "cv2.waitKey(1)\n",
    "cv2.waitKey(1)\n"
   ]
  },
  {
   "cell_type": "code",
   "execution_count": null,
   "id": "caa4cd88",
   "metadata": {},
   "outputs": [],
   "source": []
  }
 ],
 "metadata": {
  "kernelspec": {
   "display_name": "Python 3 (ipykernel)",
   "language": "python",
   "name": "python3"
  },
  "language_info": {
   "codemirror_mode": {
    "name": "ipython",
    "version": 3
   },
   "file_extension": ".py",
   "mimetype": "text/x-python",
   "name": "python",
   "nbconvert_exporter": "python",
   "pygments_lexer": "ipython3",
   "version": "3.11.5"
  }
 },
 "nbformat": 4,
 "nbformat_minor": 5
}
