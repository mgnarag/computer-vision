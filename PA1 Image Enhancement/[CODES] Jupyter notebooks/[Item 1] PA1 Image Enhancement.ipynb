{
 "cells": [
  {
   "cell_type": "markdown",
   "id": "fd4d1a89",
   "metadata": {},
   "source": [
    "# Programming Assignment 1 - OpenCV Exercises Image Enhancement\n",
    "\n",
    "by Mark Jeremy G. Narag\n",
    "\n",
    "This Programming Assignment has seven (7) parts which tackles 7 different tasks. This is PART 1.\n",
    "\n",
    "\n",
    "All codes were executed using Jupyter Notebook in Macbook Air M1 MacOS Ventura 13.4.1\n",
    "\n",
    "## PART 1: Program that performs the computations described below:\n",
    "\n",
    "### (a) Select a negative floating-point number. Take its absolute value, round it, and then take its ceiling and floor. Print the results to screen."
   ]
  },
  {
   "cell_type": "code",
   "execution_count": 1,
   "id": "05edb52f",
   "metadata": {},
   "outputs": [
    {
     "name": "stdout",
     "output_type": "stream",
     "text": [
      "Original Number: -3.45\n",
      "Absolute Value: 3.45\n",
      "Rounded Value: 3\n",
      "Ceiling Value: 4\n",
      "Floor Value: 3\n"
     ]
    }
   ],
   "source": [
    "number = -3.45\n",
    "\n",
    "# Calculate the absolute value\n",
    "abs_value = abs(number)\n",
    "\n",
    "# Round the absolute value\n",
    "rounded_value = round(abs_value)\n",
    "\n",
    "# Calculate the ceiling and floor\n",
    "ceiling_value = int(abs_value) + 1\n",
    "floor_value = int(abs_value)\n",
    "\n",
    "# Print the results\n",
    "print(f\"Original Number: {number}\")\n",
    "print(f\"Absolute Value: {abs_value}\")\n",
    "print(f\"Rounded Value: {rounded_value}\")\n",
    "print(f\"Ceiling Value: {ceiling_value}\")\n",
    "print(f\"Floor Value: {floor_value}\")\n"
   ]
  },
  {
   "cell_type": "markdown",
   "id": "c5c32710",
   "metadata": {},
   "source": [
    "### (b) Generate a 3 × 4 matrix whose elements are random integers. Print the matrix."
   ]
  },
  {
   "cell_type": "code",
   "execution_count": 2,
   "id": "1d58d0f9",
   "metadata": {},
   "outputs": [
    {
     "name": "stdout",
     "output_type": "stream",
     "text": [
      "[62, 38, 99, 70]\n",
      "[66, 76, 44, 71]\n",
      "[35, 51, 28, 44]\n"
     ]
    }
   ],
   "source": [
    "import random\n",
    "\n",
    "# Define the dimensions of the matrix\n",
    "rows = 3\n",
    "columns = 4\n",
    "\n",
    "# Initialize an empty matrix\n",
    "matrix = []\n",
    "\n",
    "# Populate the matrix with random integers\n",
    "for i in range(rows):\n",
    "    row = []\n",
    "    for j in range(columns):\n",
    "        # Generate a random integer and add it to the row\n",
    "        row.append(random.randint(1, 100))  # Change the range as needed\n",
    "    matrix.append(row)\n",
    "\n",
    "# Print the matrix\n",
    "for row in matrix:\n",
    "    print(row)\n"
   ]
  },
  {
   "cell_type": "markdown",
   "id": "137526f7",
   "metadata": {},
   "source": [
    "\n",
    "### (c) Declare matrix variables A, B and integer variable c within OpenCV. Assign them with the following values:\n",
    "    \n",
    "    A = ((6,0,2) (2,6,5) (9,7,1)\n",
    "         (1,6,4) (5,4,9) (6,9,2)\n",
    "         (3,5,9) (5,3,7) (8,3,3))\n",
    "         \n",
    "         \n",
    "    B = ((9,1,9) (7,0,5) (2,0,3)\n",
    "         (9,2,3) (4,3,6) (0,2,9)\n",
    "         (7,2,6) (0,3,8) (4,2,1))\n",
    "    c = 0.7\n",
    "    d = 0.55"
   ]
  },
  {
   "cell_type": "code",
   "execution_count": 59,
   "id": "659a6ec0",
   "metadata": {},
   "outputs": [],
   "source": [
    "#!pip install opencv-python==4.7.0.72\n",
    "import cv2\n",
    "import numpy as np\n",
    "\n",
    "A = np.array([[(6,0,2), (2,6,5), (9,7,1)],\n",
    "     [(1,6,4), (5,4,9), (6,9,2)],\n",
    "     [(3,5,9), (5,3,7), (8,3,3)]], dtype=np.uint8)  # Specify the data type (e.g., uint8 for 8-bit integers)\n",
    "A = cv2.Mat(A)\n",
    "\n",
    "B = np.array([[(9,1,9), (7,0,5), (2,0,3)],\n",
    "     [(9,2,3), (4,3,6), (0,2,9)],\n",
    "     [(7,2,6), (0,3,8), (4,2,1)]], dtype=np.uint8)\n",
    "B = cv2.Mat(B)\n",
    "\n",
    "c = 0.7\n",
    "d = 0.55"
   ]
  },
  {
   "cell_type": "markdown",
   "id": "966e7ca3",
   "metadata": {},
   "source": [
    "### Compute the following: \n",
    "\n",
    "### i. cA+(1−c)B+d"
   ]
  },
  {
   "cell_type": "code",
   "execution_count": 60,
   "id": "a1e7f669",
   "metadata": {},
   "outputs": [
    {
     "name": "stdout",
     "output_type": "stream",
     "text": [
      "x=\n",
      "[[[7.45 0.85 4.65]\n",
      "  [4.05 4.75 5.55]\n",
      "  [7.45 5.45 2.15]]\n",
      "\n",
      " [[3.95 5.35 4.25]\n",
      "  [5.25 4.25 8.65]\n",
      "  [4.75 7.45 4.65]]\n",
      "\n",
      " [[4.75 4.65 8.65]\n",
      "  [4.05 3.55 7.85]\n",
      "  [7.35 3.25 2.95]]]\n"
     ]
    }
   ],
   "source": [
    "x = c*A + ((1-c)*B) + d\n",
    "print(\"x=\")\n",
    "print(x)"
   ]
  },
  {
   "cell_type": "markdown",
   "id": "1bb68dc1",
   "metadata": {},
   "source": [
    "### ii. A^−1 (using SVD)"
   ]
  },
  {
   "cell_type": "code",
   "execution_count": 61,
   "id": "922d7f8a",
   "metadata": {},
   "outputs": [
    {
     "name": "stdout",
     "output_type": "stream",
     "text": [
      "Inverse of matrix A:\n",
      "[[[ 0.95386233  0.85608027  0.72918466]\n",
      "  [ 0.53737483  0.43981643  0.349763  ]\n",
      "  [ 0.52661874  0.4807873   0.41407813]]\n",
      "\n",
      " [[-0.02246405  0.36323647  0.59831343]\n",
      "  [ 0.04156504  0.0608089   0.17032046]\n",
      "  [ 0.09108729 -0.596499   -0.89867205]]\n",
      "\n",
      " [[-0.36809977  0.32970098 -0.13537423]\n",
      "  [ 0.28509763 -0.23585013  0.11991207]\n",
      "  [-0.19189696  0.18423042 -0.06131238]]]\n"
     ]
    }
   ],
   "source": [
    "U, S, Vt = np.linalg.svd(A)\n",
    "S_inv = np.zeros_like(A, dtype=float)\n",
    "S_inv[:len(S)] = 1 / S\n",
    "A_inverse = Vt.T @ S_inv @ U.T\n",
    "print(\"Inverse of matrix A:\")\n",
    "print(A_inverse)"
   ]
  },
  {
   "cell_type": "markdown",
   "id": "3ca3ea26",
   "metadata": {},
   "source": [
    "### iii. Eigenvalue of B"
   ]
  },
  {
   "cell_type": "code",
   "execution_count": 106,
   "id": "0eee5d14",
   "metadata": {},
   "outputs": [
    {
     "name": "stdout",
     "output_type": "stream",
     "text": [
      "Eigenvalues= [(15.624144, 4.0, -2.6241438), (5.0, 1.0, -3.1401849e-16), (16.814648, 4.3327074, -5.147355)]\n"
     ]
    }
   ],
   "source": [
    "import cv2\n",
    "import numpy as np\n",
    "\n",
    "#I will first decompose the vector B\n",
    "B_1 = np.array([[9, 7, 2],\n",
    "                [ 9, 4, 0],\n",
    "                [7, 0, 4]], np.float32)\n",
    "B_2 = np.array([[1, 0, 0],\n",
    "                [2, 3, 2],\n",
    "                [2, 3, 2]], np.float32)\n",
    "B_3 = np.array([[9, 5, 3],\n",
    "                [3, 6, 9],\n",
    "                [6, 8, 1]], np.float32)\n",
    "\n",
    "B1 = cv2.eigenNonSymmetric(B_1) #note that our matrix is non symmetric so it is important to use eigenNonSymmetric\n",
    "B2 = cv2.eigenNonSymmetric(B_2)\n",
    "B3 = cv2.eigenNonSymmetric(B_3)\n",
    "print('Eigenvalues=',[((B1[0][0][0]),(B1[0][1][0]),(B1[0][2][0])),\n",
    "     ((B2[0][0][0]),(B2[0][1][0]),(B2[0][2][0])),\n",
    "     ((B3[0][0][0]),(B3[0][1][0]),(B3[0][2][0]))])"
   ]
  },
  {
   "cell_type": "markdown",
   "id": "271cfc7b",
   "metadata": {},
   "source": [
    "### (iv) solve the matrix equation Ax = b where\n",
    "\n",
    "    b = ((3,5,5)\n",
    "         (7,2,8)\n",
    "         (4,1,6))"
   ]
  },
  {
   "cell_type": "code",
   "execution_count": 134,
   "id": "df9ad0d8",
   "metadata": {},
   "outputs": [
    {
     "name": "stdout",
     "output_type": "stream",
     "text": [
      "Solution x =\n",
      "[(-10.100011, -0.2905405, 2.3333251)]\n",
      "[(-6.9000087, 0.7229729, 1.9999962)]\n",
      "[(8.600008, 0.09459456, -9.666633)]\n"
     ]
    }
   ],
   "source": [
    "#I will first decompose the vector A and b\n",
    "A_1 = np.array([[6, 2, 9],\n",
    "                [1, 5, 6],\n",
    "                [3, 5, 8]], np.float32)\n",
    "A_2 = np.array([[0, 6, 7],\n",
    "                [6, 4, 9],\n",
    "                [5, 3, 3]], np.float32)\n",
    "A_3 = np.array([[2, 5, 1],\n",
    "                [4, 9, 2],\n",
    "                [9, 7, 3]], np.float32)\n",
    "b_1 = np.array([[3],\n",
    "              [7],\n",
    "              [4]], np.float32)\n",
    "b_2 = np.array([[5],\n",
    "              [2],\n",
    "              [1]], np.float32)\n",
    "b_3 = np.array([[5],\n",
    "              [8],\n",
    "              [6]], np.float32)\n",
    "\n",
    "# solving for x using numPy's linear algebra functions\n",
    "x_1 = cv2.solve(A_1, b_1, flags=cv2.DECOMP_SVD)\n",
    "x_2 = cv2.solve(A_2, b_2, flags=cv2.DECOMP_SVD)\n",
    "x_3 = cv2.solve(A_3, b_3, flags=cv2.DECOMP_SVD)\n",
    "\n",
    "# Print the solution x\n",
    "print(\"Solution x =\")\n",
    "print([(x_1[1][0][0], x_2[1][0][0], x_3[1][0][0])])\n",
    "print([(x_1[1][1][0], x_2[1][1][0], x_3[1][1][0])])\n",
    "print([(x_1[1][2][0], x_2[1][2][0], x_3[1][2][0])])"
   ]
  },
  {
   "cell_type": "markdown",
   "id": "fb79205d",
   "metadata": {},
   "source": [
    "### (d) Create a 2D matrix with three channels of type byte and size 100-by-100 and set all values to zero. Draw a red rectangle between with corners (30, 10) and (60, 40). Display this image."
   ]
  },
  {
   "cell_type": "code",
   "execution_count": 54,
   "id": "6e06045d",
   "metadata": {},
   "outputs": [
    {
     "data": {
      "text/plain": [
       "-1"
      ]
     },
     "execution_count": 54,
     "metadata": {},
     "output_type": "execute_result"
    }
   ],
   "source": [
    "import cv2\n",
    "import numpy as np\n",
    "import matplotlib.pyplot as plt\n",
    "\n",
    "# creating 3-channel of size 100x100 matrix with all values set to zero\n",
    "image = np.zeros((100, 100, 3), dtype=np.uint8) \n",
    "\n",
    "# draw the red rectangle\n",
    "cv2.rectangle(image, (30, 10), (60, 40), (0, 0, 255), 1)  #(0,0,255) is red and 1 is the thickness of line\n",
    "#remember that in cv2, the arrangement of channel is B-G-R\n",
    "\n",
    "# displaying the image\n",
    "cv2.imshow('Red rectangle', image)\n",
    "\n",
    "cv2.waitKey(0)\n",
    "cv2.destroyAllWindows()#closing all windows\n",
    "cv2.waitKey(1) #for some reason, macbook jupyter does not close the windows and I saw a discussion online \n",
    "cv2.waitKey(1) #regarding adding these extra lines\n",
    "cv2.waitKey(1)\n",
    "cv2.waitKey(1)\n"
   ]
  },
  {
   "cell_type": "markdown",
   "id": "ee9c9f32",
   "metadata": {},
   "source": [
    "### (e) Copy the red channel in (d) above into another matrix for display as grayscale image."
   ]
  },
  {
   "cell_type": "code",
   "execution_count": 58,
   "id": "7459c09d",
   "metadata": {},
   "outputs": [
    {
     "data": {
      "text/plain": [
       "-1"
      ]
     },
     "execution_count": 58,
     "metadata": {},
     "output_type": "execute_result"
    }
   ],
   "source": [
    "# creating a grayscale image from the red channel\n",
    "red_channel = image[:, :, 2] #red is on the last channel\n",
    "\n",
    "# displaying the image\n",
    "cv2.imshow('Red in grayscale', red_channel)\n",
    "\n",
    "cv2.waitKey(0)\n",
    "cv2.destroyAllWindows()#closing all windows\n",
    "cv2.waitKey(1) #for some reason, macbook jupyter does not close the windows and I saw a discussion online \n",
    "cv2.waitKey(1) #regarding adding these extra lines\n",
    "cv2.waitKey(1)\n",
    "cv2.waitKey(1)\n"
   ]
  },
  {
   "cell_type": "code",
   "execution_count": null,
   "id": "9966c48b",
   "metadata": {},
   "outputs": [],
   "source": []
  }
 ],
 "metadata": {
  "kernelspec": {
   "display_name": "Python 3 (ipykernel)",
   "language": "python",
   "name": "python3"
  },
  "language_info": {
   "codemirror_mode": {
    "name": "ipython",
    "version": 3
   },
   "file_extension": ".py",
   "mimetype": "text/x-python",
   "name": "python",
   "nbconvert_exporter": "python",
   "pygments_lexer": "ipython3",
   "version": "3.11.5"
  }
 },
 "nbformat": 4,
 "nbformat_minor": 5
}
